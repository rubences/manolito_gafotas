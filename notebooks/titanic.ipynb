{
 "cells": [
  {
   "cell_type": "markdown",
   "metadata": {},
   "source": [
    "El fichero titanic.csv contiene información sobre los pasajeros del Titanic. Crear un dataframe con Pandas y a partir de él generar los siguientes diagramas.\n",
    "\n",
    "Diagrama de sectores con los fallecidos y supervivientes.\n",
    "Histograma con las edades.\n",
    "Diagrama de barras con el número de personas en cada clase.\n",
    "Diagrama de barras con el número de personas fallecidas y supervivientes en cada clase.\n",
    "Diagrama de barras con el número de personas fallecidas y supervivientes acumuladas en cada clase."
   ]
  },
  {
   "cell_type": "code",
   "execution_count": null,
   "metadata": {},
   "outputs": [],
   "source": [
    "#Diagrama de sectores con los fallecidos y supervivientes.\n",
    "#Se importa la librería matplotlib.pyplot\n",
    "import matplotlib.pyplot as plt\n",
    "#Se importa la librería pandas\n",
    "import pandas as pd\n",
    "#Se importa la librería numpy\n",
    "import numpy as np\n",
    "#Se importa la librería seaborn\n",
    "import seaborn as sns\n",
    "#Se importa la librería sklearn\n",
    "import sklearn\n",
    "#Se importa la librería de machine learning\n",
    "from sklearn import linear_model\n",
    "#Se importa la librería de machine learning\n",
    "from sklearn.model_selection import train_test_split\n",
    "#Se importa la librería de machine learning\n",
    "from sklearn.linear_model import LogisticRegression\n",
    "#Se importa la librería de machine learning\n",
    "from sklearn.metrics import accuracy_score\n",
    "#Se importa la librería de machine learning\n",
    "from sklearn.metrics import confusion_matrix\n",
    "#Se importa la librería de machine learning\n",
    "from sklearn.metrics import classification_report\n",
    "#Se importa la librería de machine learning\n",
    "from sklearn.metrics import roc_curve\n",
    "#Se importa la librería de machine learning\n",
    "from sklearn.metrics import roc_auc_score\n",
    "\n",
    "#Se lee el archivo csv\n",
    "df = pd.read_csv('titanic.csv')\n",
    "#Se muestra el archivo csv\n",
    "df.head()\n",
    "#Se muestra la información del archivo csv\n",
    "df.info()\n",
    "#Se muestra la descripción del archivo csv\n",
    "df.describe()\n",
    "#Se muestra la cantidad de datos nulos\n",
    "df.isnull().sum()\n",
    "#Se muestra la cantidad de datos nulos\n",
    "df.isnull().sum()\n",
    "#Se muestra la cantidad de datos nulos\n",
    "df.isnull().sum()\n",
    "\n",
    "#Se muestra la cantidad de datos nulos\n",
    "df.isnull().sum()\n",
    "\n",
    "\n",
    "#Se muestra la cantidad de datos nulos\n"
   ]
  }
 ],
 "metadata": {
  "kernelspec": {
   "display_name": "Python 3.10.4 64-bit",
   "language": "python",
   "name": "python3"
  },
  "language_info": {
   "name": "python",
   "version": "3.10.4"
  },
  "orig_nbformat": 4,
  "vscode": {
   "interpreter": {
    "hash": "3ad933181bd8a04b432d3370b9dc3b0662ad032c4dfaa4e4f1596c548f763858"
   }
  }
 },
 "nbformat": 4,
 "nbformat_minor": 2
}
