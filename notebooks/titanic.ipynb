{
 "cells": [
  {
   "cell_type": "markdown",
   "metadata": {},
   "source": [
    "El fichero titanic.csv contiene información sobre los pasajeros del Titanic. Crear un dataframe con Pandas y a partir de él generar los siguientes diagramas.\n",
    "\n",
    "Diagrama de sectores con los fallecidos y supervivientes.\n",
    "Histograma con las edades.\n",
    "Diagrama de barras con el número de personas en cada clase.\n",
    "Diagrama de barras con el número de personas fallecidas y supervivientes en cada clase.\n",
    "Diagrama de barras con el número de personas fallecidas y supervivientes acumuladas en cada clase."
   ]
  }
 ],
 "metadata": {
  "kernelspec": {
   "display_name": "Python 3.10.4 64-bit",
   "language": "python",
   "name": "python3"
  },
  "language_info": {
   "name": "python",
   "version": "3.10.4"
  },
  "orig_nbformat": 4,
  "vscode": {
   "interpreter": {
    "hash": "3ad933181bd8a04b432d3370b9dc3b0662ad032c4dfaa4e4f1596c548f763858"
   }
  }
 },
 "nbformat": 4,
 "nbformat_minor": 2
}
